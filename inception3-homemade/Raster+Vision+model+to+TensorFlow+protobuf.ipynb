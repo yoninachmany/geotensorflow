{
 "cells": [
  {
   "cell_type": "markdown",
   "metadata": {
    "collapsed": true
   },
   "source": [
    "# Get model from Raster Vision"
   ]
  },
  {
   "cell_type": "code",
   "execution_count": 1,
   "metadata": {
    "collapsed": true
   },
   "outputs": [],
   "source": [
    "# 1. https://github.com/azavea/raster-vision/blob/develop/src/rastervision/run.py#L34-L35\n",
    "# 2. https://github.com/azavea/raster-vision/blob/develop/src/rastervision/tagging/run.py#L23-L31\n",
    "# 3. https://github.com/azavea/raster-vision/blob/develop/src/rastervision/common/run.py#L58-L68\n",
    "# 4. https://github.com/azavea/raster-vision/blob/develop/src/rastervision/common/models/factory.py#L31-L43"
   ]
  },
  {
   "cell_type": "code",
   "execution_count": 2,
   "metadata": {
    "collapsed": true
   },
   "outputs": [],
   "source": [
    "# https://github.com/azavea/raster-vision/blob/develop/src/rastervision/common/models/factory.py#L1\n",
    "from os.path import isfile, join\n",
    "\n",
    "# https://github.com/azavea/raster-vision/blob/develop/src/rastervision/common/models/factory.py#L31-L43\n",
    "# Change: remove self, generator\n",
    "def get_model(run_path, options, use_best=True):\n",
    "    # Get a model by loading if it exists or making a new one.\n",
    "    model_path = join(run_path, 'model.h5')\n",
    "\n",
    "    # Load the model if it's saved, or create a new one.\n",
    "    if isfile(model_path):\n",
    "        model = load_model(run_path, options, use_best)\n",
    "        print('Continuing training from saved model.')\n",
    "    else:\n",
    "        model = make_model(options)\n",
    "        print('Creating new model.')\n",
    "\n",
    "    return model"
   ]
  },
  {
   "cell_type": "code",
   "execution_count": 3,
   "metadata": {
    "collapsed": true
   },
   "outputs": [],
   "source": [
    "# 5. https://github.com/azavea/raster-vision/blob/develop/src/rastervision/common/models/factory.py#L15-L29\n",
    "# 6. https://github.com/azavea/raster-vision/blob/develop/src/rastervision/tagging/models/factory.py#L15-L50"
   ]
  },
  {
   "cell_type": "code",
   "execution_count": 4,
   "metadata": {},
   "outputs": [
    {
     "name": "stderr",
     "output_type": "stream",
     "text": [
      "Using TensorFlow backend.\n"
     ]
    }
   ],
   "source": [
    "# https://github.com/azavea/raster-vision/blob/develop/src/rastervision/tagging/models/factory.py#L2-L8\n",
    "from rastervision.common.models.resnet50 import ResNet50\n",
    "from rastervision.common.models.densenet121 import DenseNet121\n",
    "from rastervision.common.models.densenet169 import DenseNet169\n",
    "\n",
    "BASELINE_RESNET = 'baseline_resnet'\n",
    "DENSENET_121 = 'densenet121'\n",
    "DENSENET_169 = 'densenet169'\n",
    "\n",
    "# https://github.com/azavea/raster-vision/blob/develop/src/rastervision/tagging/models/factory.py#L15-L50\n",
    "# Change: remove self, generator. Change dot notation to bracket notation (why didn't dot notation work?)\n",
    "def make_model(options):\n",
    "    \"\"\"Make a new model.\"\"\"\n",
    "    model_type = options[\"model_type\"]\n",
    "    nb_channels = len(options[\"active_input_inds\"])\n",
    "    image_shape = (256, 256) # TODO: read in\n",
    "    input_shape = (image_shape[0], image_shape[1], nb_channels)\n",
    "    classes = 17 # TODO: read in\n",
    "    \n",
    "    weights = 'imagenet' if options[\"use_pretraining\"] else None\n",
    "    if model_type == BASELINE_RESNET:\n",
    "        # A ResNet50 model with sigmoid activation and binary_crossentropy\n",
    "        # as a loss function.\n",
    "        model = ResNet50(\n",
    "            include_top=True, weights=weights,\n",
    "            input_shape=input_shape,\n",
    "            classes=classes,\n",
    "            activation='sigmoid')\n",
    "    elif model_type == DENSENET_121:\n",
    "        model = DenseNet121(weights=weights,\n",
    "                            input_shape=input_shape,\n",
    "                            classes=classes,\n",
    "                            activation='sigmoid')\n",
    "    elif model_type == DENSENET_169:\n",
    "        model = DenseNet169(weights=weights,\n",
    "                            input_shape=input_shape,\n",
    "                            classes=classes,\n",
    "                            activation='sigmoid')\n",
    "    else:\n",
    "        raise ValueError('{} is not a valid model_type'.format(model_type))\n",
    "\n",
    "    if options.get(\"freeze_base\", False):\n",
    "        for layer in model.layers[:-1]:\n",
    "            layer.trainable = False\n",
    "\n",
    "    return model"
   ]
  },
  {
   "cell_type": "code",
   "execution_count": 5,
   "metadata": {
    "collapsed": true
   },
   "outputs": [],
   "source": [
    "# https://github.com/azavea/raster-vision/blob/develop/src/rastervision/common/models/factory.py#L19-L29\n",
    "# Change: remove self, generator\n",
    "def load_model(run_path, options, use_best=True):\n",
    "    #Load an existing model.\n",
    "    # Load the model by weights. This permits loading weights from a saved\n",
    "    # model into a model with a different architecture assuming the named\n",
    "    # layers have compatible dimensions.\n",
    "    model = make_model(options)\n",
    "    file_name = 'best_model.h5' if use_best else 'model.h5'\n",
    "    model_path = join(run_path, file_name)\n",
    "    # TODO raise exception if model_path doesn't exist\n",
    "    model.load_weights(model_path, by_name=True)\n",
    "    return model"
   ]
  },
  {
   "cell_type": "code",
   "execution_count": 6,
   "metadata": {},
   "outputs": [
    {
     "name": "stdout",
     "output_type": "stream",
     "text": [
      "[<tf.Tensor 'input_1:0' shape=(?, 256, 256, 3) dtype=float32>]\n",
      "[<tf.Tensor 'dense/Sigmoid:0' shape=(?, 17) dtype=float32>]\n"
     ]
    }
   ],
   "source": [
    "import os\n",
    "inception_test_augmentation_false_run_name = \"tagging/7_18_17/inception/sgd\"\n",
    "tiff_pre_test_augmentation_run_name = \"tagging/6_19_17/RGBtiff\"\n",
    "test_augmentation_run_name = \"tagging/7_17_17/resnet_transform/0\"\n",
    "jpg_pre_test_augmentation_run_name = \"tagging/7_3_17/baseline-branch-tiffdrop\"\n",
    "run_name = test_augmentation_run_name\n",
    "\n",
    "raster_vision_data_path = os.environ.get(\"RASTER_VISION_DATA_DIRECTORY\", None) or \"/opt/data\"\n",
    "results_path = os.path.join(raster_vision_data_path, \"results\")\n",
    "run_path = os.path.join(results_path, run_name)\n",
    "\n",
    "import json\n",
    "with open(os.path.join(run_path, \"options.json\")) as file:\n",
    "    options = json.load(file)\n",
    "\n",
    "# https://keras.io/backend/\n",
    "from keras import backend as K\n",
    "K.set_learning_phase(0) # test\n",
    "model = load_model(run_path, options, use_best=True)\n",
    "# to test with vanilla inceptionv3 model\n",
    "# from keras.applications.inception_v3 import InceptionV3\n",
    "# model = InceptionV3()\n",
    "\n",
    "print(model.inputs)\n",
    "print(model.outputs)"
   ]
  },
  {
   "cell_type": "code",
   "execution_count": 7,
   "metadata": {
    "collapsed": true
   },
   "outputs": [],
   "source": [
    "output_node_tensor_name = model.outputs[0].name\n",
    "output_node_name = output_node_tensor_name[0:output_node_tensor_name.index(\":\")]"
   ]
  },
  {
   "cell_type": "markdown",
   "metadata": {},
   "source": [
    "# Freeze model to protobuf"
   ]
  },
  {
   "cell_type": "code",
   "execution_count": 8,
   "metadata": {
    "collapsed": true
   },
   "outputs": [],
   "source": [
    "# Background: https://www.tensorflow.org/extend/tool_developers/#freezing\n",
    "# Template: https://github.com/tensorflow/tensorflow/blob/master/tensorflow/python/tools/freeze_graph_test.py#L39-L78\n",
    "from tensorflow.core.protobuf import saver_pb2\n",
    "from tensorflow.python.framework import graph_io\n",
    "from tensorflow.python.tools import freeze_graph\n",
    "from tensorflow.python.training import saver as saver_lib\n",
    "\n",
    "def testFreezeGraph():\n",
    "    temp_dir = os.path.join(os.getcwd(), \"temp\")\n",
    "    if not os.path.exists(temp_dir):\n",
    "        os.makedirs(temp_dir)\n",
    "    checkpoint_prefix = os.path.join(temp_dir, \"saved_checkpoint\")\n",
    "    checkpoint_state_name = \"checkpoint_state\"\n",
    "    input_graph_name = \"input_graph.pb\"\n",
    "    output_graph_name = \"output_graph.pb\"\n",
    "\n",
    "    with K.get_session() as sess:\n",
    "        saver = saver_lib.Saver(write_version=saver_pb2.SaverDef.V2)\n",
    "        checkpoint_path = saver.save(\n",
    "            sess,\n",
    "            checkpoint_prefix,\n",
    "            global_step=0,\n",
    "            latest_filename=checkpoint_state_name)\n",
    "        graph_io.write_graph(sess.graph, temp_dir, input_graph_name)\n",
    "\n",
    "    # We save out the graph to disk, and then call the const conversion\n",
    "    # routine.\n",
    "    input_graph_path = os.path.join(temp_dir, input_graph_name)\n",
    "    input_saver_def_path = \"\"\n",
    "    input_binary = False\n",
    "    output_node_names = output_node_name\n",
    "    restore_op_name = \"save/restore_all\"\n",
    "    filename_tensor_name = \"save/Const:0\"\n",
    "    # Only write the output graph to the run_path\n",
    "    output_graph_path = os.path.join(run_path, output_graph_name)\n",
    "    clear_devices = False\n",
    "\n",
    "    freeze_graph.freeze_graph(input_graph_path, input_saver_def_path,\n",
    "                              input_binary, checkpoint_path, output_node_names,\n",
    "                              restore_op_name, filename_tensor_name,\n",
    "                              output_graph_path, clear_devices, \"\")\n",
    "\n",
    "    import shutil\n",
    "    shutil.rmtree(temp_dir)"
   ]
  },
  {
   "cell_type": "code",
   "execution_count": 9,
   "metadata": {},
   "outputs": [
    {
     "name": "stdout",
     "output_type": "stream",
     "text": [
      "INFO:tensorflow:Froze 320 variables.\n",
      "Converted 320 variables to const ops.\n",
      "1253 ops in the final graph.\n"
     ]
    }
   ],
   "source": [
    "testFreezeGraph()"
   ]
  },
  {
   "cell_type": "code",
   "execution_count": null,
   "metadata": {
    "collapsed": true
   },
   "outputs": [],
   "source": []
  }
 ],
 "metadata": {
  "kernelspec": {
   "display_name": "Python 3",
   "language": "python",
   "name": "python3"
  },
  "language_info": {
   "codemirror_mode": {
    "name": "ipython",
    "version": 3
   },
   "file_extension": ".py",
   "mimetype": "text/x-python",
   "name": "python",
   "nbconvert_exporter": "python",
   "pygments_lexer": "ipython3",
   "version": "3.5.3"
  }
 },
 "nbformat": 4,
 "nbformat_minor": 2
}
